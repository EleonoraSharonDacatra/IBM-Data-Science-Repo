{
 "cells": [
  {
   "cell_type": "markdown",
   "id": "bfe6a3c8-4bf1-4254-b13d-1e0e2aae7106",
   "metadata": {},
   "source": [
    "# My Jupyter Notebook"
   ]
  },
  {
   "cell_type": "markdown",
   "id": "1dba594b-81f1-4292-851c-9c8ff39a23e6",
   "metadata": {},
   "source": [
    "## Introduction\n",
    "This is the final work of the course \"Tools for Data Science\""
   ]
  },
  {
   "cell_type": "markdown",
   "id": "028066cd-94e4-43a2-be3c-65088e7e9e17",
   "metadata": {},
   "source": [
    "Main Data science languages:\n",
    "1) Python\n",
    "2) R\n",
    "3) SQL\n",
    "4) Java\n",
    "5) Scala\n",
    "6) C++\n",
    "7) Javascript\n",
    "8) Julia\n",
    "\n",
    "The first three are the most used"
   ]
  },
  {
   "cell_type": "markdown",
   "id": "a057ca2d-38e7-4450-afd5-9bf8174f1a7e",
   "metadata": {},
   "source": [
    "Main Data science libreries:\n",
    "- Pandas\n",
    "- Numpy\n",
    "- Scipy\n",
    "- Matplotlib\n",
    "- Tensorflow\n",
    "- Pytorch\n",
    "- Keras\n",
    "- Scikit-learn\n",
    "- NLTK"
   ]
  },
  {
   "cell_type": "markdown",
   "id": "8918b329-233f-4150-9c3d-a0e55bf0dc82",
   "metadata": {},
   "source": [
    "Main data science tools:\n",
    "- apache\n",
    "- ModelDB\n",
    "- hue\n",
    "- Git\n",
    "- Jupyter\n",
    "- RStudio\n",
    "- IBM DB2\n",
    "- Power BI\n",
    "- SPSS\n",
    "- Informatica\n",
    "- Watson Studio\n",
    "- Watson ML\n",
    "- Watson Opne Scale"
   ]
  },
  {
   "cell_type": "markdown",
   "id": "bb21f08a-bab5-4faa-b274-26f2cbfe7526",
   "metadata": {},
   "source": [
    "In the next cell, an example of a functions calculating an arithmetic expressions can be seen"
   ]
  },
  {
   "cell_type": "code",
   "execution_count": 11,
   "id": "bc2d332a-3779-467b-ac31-d7a82f1f8dfb",
   "metadata": {},
   "outputs": [
    {
     "name": "stdout",
     "output_type": "stream",
     "text": [
      "5 * 2 = 10\n",
      "5 + 2 = 7\n"
     ]
    }
   ],
   "source": [
    "def multiply(x,y):\n",
    "    return x*y\n",
    "\n",
    "def sum(x,y):\n",
    "    return x+y\n",
    "\n",
    "print(\"5 * 2 =\", multiply(5,2))\n",
    "print(\"5 + 2 =\", sum(5,2))"
   ]
  },
  {
   "cell_type": "code",
   "execution_count": 17,
   "id": "1844d00f-feb9-4bb7-9629-506a59a72264",
   "metadata": {},
   "outputs": [
    {
     "name": "stdout",
     "output_type": "stream",
     "text": [
      "120 minutes are equal to: 2.0 hours\n"
     ]
    }
   ],
   "source": [
    "def min_to_hour(m):\n",
    "    return m/60\n",
    "\n",
    "print(\"120 minutes are equal to:\", min_to_hour(120), \"hours\")"
   ]
  },
  {
   "cell_type": "markdown",
   "id": "af9124b8-2d13-4fc8-871d-fd33bb1efc69",
   "metadata": {},
   "source": [
    "These are my objectives:\n",
    "1) Be happy\n",
    " "
   ]
  },
  {
   "cell_type": "markdown",
   "id": "bdd56632-2381-4eaf-90b1-66cabac25a82",
   "metadata": {},
   "source": [
    "### Author name: Sharon Dacatra"
   ]
  }
 ],
 "metadata": {
  "kernelspec": {
   "display_name": "Python",
   "language": "python",
   "name": "conda-env-python-py"
  },
  "language_info": {
   "codemirror_mode": {
    "name": "ipython",
    "version": 3
   },
   "file_extension": ".py",
   "mimetype": "text/x-python",
   "name": "python",
   "nbconvert_exporter": "python",
   "pygments_lexer": "ipython3",
   "version": "3.7.12"
  }
 },
 "nbformat": 4,
 "nbformat_minor": 5
}
