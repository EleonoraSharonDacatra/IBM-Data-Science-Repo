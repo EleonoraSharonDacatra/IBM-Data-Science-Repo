{
 "cells": [
  {
   "cell_type": "markdown",
   "id": "bfe6a3c8-4bf1-4254-b13d-1e0e2aae7106",
   "metadata": {},
   "source": [
    "# Data Science Tools and Ecosystem"
   ]
  },
  {
   "cell_type": "markdown",
   "id": "1dba594b-81f1-4292-851c-9c8ff39a23e6",
   "metadata": {},
   "source": [
    "## Introduction\n",
    "This is the final work of the course \"Tools for Data Science\""
   ]
  },
  {
   "cell_type": "markdown",
   "id": "8b583131-1e8b-4d00-8324-00fbc4e28bb4",
   "metadata": {},
   "source": [
    "**Objectives:**\n",
    "- Main Data science languages\n",
    "- Main Data science libreries\n",
    "- arithmetic expressions"
   ]
  },
  {
   "cell_type": "markdown",
   "id": "028066cd-94e4-43a2-be3c-65088e7e9e17",
   "metadata": {},
   "source": [
    "Main Data science languages:\n",
    "1) Python\n",
    "2) R\n",
    "3) SQL\n",
    "4) Java\n",
    "5) Scala\n",
    "6) C++\n",
    "7) Javascript\n",
    "8) Julia\n",
    "\n",
    "The first three are the most used"
   ]
  },
  {
   "cell_type": "markdown",
   "id": "a057ca2d-38e7-4450-afd5-9bf8174f1a7e",
   "metadata": {},
   "source": [
    "Main Data science libreries:\n",
    "- Pandas\n",
    "- Numpy\n",
    "- Scipy\n",
    "- Matplotlib\n",
    "- Tensorflow\n",
    "- Pytorch\n",
    "- Keras\n",
    "- Scikit-learn\n",
    "- NLTK"
   ]
  },
  {
   "cell_type": "markdown",
   "id": "8918b329-233f-4150-9c3d-a0e55bf0dc82",
   "metadata": {},
   "source": [
    "| Data Science Tools |\n",
    "| ------ | \n",
    "| Jupyter | \n",
    "| RStudio | \n",
    "| Apache Spark | "
   ]
  },
  {
   "cell_type": "markdown",
   "id": "bb21f08a-bab5-4faa-b274-26f2cbfe7526",
   "metadata": {},
   "source": [
    "### In the next cell, 2 examples of a functions calculating arithmetic expressions in python are displayed"
   ]
  },
  {
   "cell_type": "code",
   "execution_count": 24,
   "id": "bc2d332a-3779-467b-ac31-d7a82f1f8dfb",
   "metadata": {},
   "outputs": [
    {
     "name": "stdout",
     "output_type": "stream",
     "text": [
      "5 * 2 = 10\n",
      "5 + 2 = 7\n"
     ]
    }
   ],
   "source": [
    "# this is a simple function to multiply two numbers\n",
    "def multiply(x,y): \n",
    "    return x*y\n",
    "\n",
    "# this is a simple function to add two numbers\n",
    "def sum(x,y):\n",
    "    return x+y\n",
    "\n",
    "print(\"5 * 2 =\", multiply(5,2))\n",
    "print(\"5 + 2 =\", sum(5,2))"
   ]
  },
  {
   "cell_type": "code",
   "execution_count": 25,
   "id": "1844d00f-feb9-4bb7-9629-506a59a72264",
   "metadata": {},
   "outputs": [
    {
     "name": "stdout",
     "output_type": "stream",
     "text": [
      "200 minutes are equal to: 3.3333333333333335 hours\n"
     ]
    }
   ],
   "source": [
    "#This will convert 200 minutes to hours by diving by 60\n",
    "def min_to_hour(m):\n",
    "    return m/60\n",
    "\n",
    "print(\"200 minutes are equal to:\", min_to_hour(200), \"hours\")"
   ]
  },
  {
   "cell_type": "markdown",
   "id": "bdd56632-2381-4eaf-90b1-66cabac25a82",
   "metadata": {},
   "source": [
    "## Author \n",
    "Sharon Dacatra"
   ]
  }
 ],
 "metadata": {
  "kernelspec": {
   "display_name": "Python",
   "language": "python",
   "name": "conda-env-python-py"
  },
  "language_info": {
   "codemirror_mode": {
    "name": "ipython",
    "version": 3
   },
   "file_extension": ".py",
   "mimetype": "text/x-python",
   "name": "python",
   "nbconvert_exporter": "python",
   "pygments_lexer": "ipython3",
   "version": "3.7.12"
  }
 },
 "nbformat": 4,
 "nbformat_minor": 5
}
