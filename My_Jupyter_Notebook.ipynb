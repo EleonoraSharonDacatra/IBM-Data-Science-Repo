{
 "cells": [
  {
   "cell_type": "markdown",
   "metadata": {},
   "source": [
    "<center>\n",
    "    <img src=\"https://cf-courses-data.s3.us.cloud-object-storage.appdomain.cloud/IBMDeveloperSkillsNetwork-DS0105EN-SkillsNetwork/labs/Module2/images/SN_web_lightmode.png\" width=\"300\" alt=\"cognitiveclass.ai logo\">\n",
    "</center>\n"
   ]
  },
  {
   "cell_type": "markdown",
   "metadata": {},
   "source": [
    "# My Jupyter Notebook on IBM Watson Studio"
   ]
  },
  {
   "cell_type": "markdown",
   "metadata": {
    "tags": []
   },
   "source": [
    "**Sharon Dacatra**\n",
    "\n",
    "Security Delivery Analyst"
   ]
  },
  {
   "cell_type": "markdown",
   "metadata": {},
   "source": [
    "_I am interested in Data Science because, having a Mathematical background, I am fascinated by the potentiality of Data Science methods and wish to further study them. I am particularly interested in the subject of healthcare and I would really like to employ data science techniques in this field, collaborating with hospitals and doctors_"
   ]
  },
  {
   "cell_type": "markdown",
   "metadata": {},
   "source": [
    "### In the next cell, the code computes 21978*4 which gives a number with the same digits reversed: 87912"
   ]
  },
  {
   "cell_type": "code",
   "execution_count": 8,
   "metadata": {},
   "outputs": [
    {
     "name": "stdout",
     "output_type": "stream",
     "text": [
      "21978*4 is equal to:\n"
     ]
    },
    {
     "data": {
      "text/plain": [
       "87912"
      ]
     },
     "execution_count": 8,
     "metadata": {},
     "output_type": "execute_result"
    }
   ],
   "source": [
    "print(\"21978*4 is equal to:\")\n",
    "21978*4"
   ]
  },
  {
   "cell_type": "markdown",
   "metadata": {},
   "source": [
    "1. This \n",
    "2. is\n",
    "3. a\n",
    "4. list\n",
    "\n",
    "***\n",
    "| This | is |\n",
    "| ------ | ------ |\n",
    "| a | table |\n",
    "\n",
    "***\n",
    "This is <a href=\"https://www.google.com/\">Google.com</a> \n",
    "\n",
    "***\n",
    "\n",
    "> This is a Blockquote"
   ]
  }
 ],
 "metadata": {
  "kernelspec": {
   "display_name": "Python",
   "language": "python",
   "name": "conda-env-python-py"
  },
  "language_info": {
   "codemirror_mode": {
    "name": "ipython",
    "version": 3
   },
   "file_extension": ".py",
   "mimetype": "text/x-python",
   "name": "python",
   "nbconvert_exporter": "python",
   "pygments_lexer": "ipython3",
   "version": "3.7.12"
  }
 },
 "nbformat": 4,
 "nbformat_minor": 4
}
